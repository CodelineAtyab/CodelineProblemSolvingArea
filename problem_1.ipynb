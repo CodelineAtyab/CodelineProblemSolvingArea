{
 "cells": [
  {
   "cell_type": "code",
   "execution_count": 3,
   "id": "b9c566b1-bbe2-4144-b2eb-ebd0b2fcb385",
   "metadata": {},
   "outputs": [],
   "source": [
    "import re\n",
    "\n",
    "def validate_username(username):\n",
    "    # Username should not be empty and should not exceed 50 characters\n",
    "    if len(username) == 0:\n",
    "        return False\n",
    "    elif len(username) > 50:\n",
    "        return False\n",
    "    else:\n",
    "        return True\n",
    "\n",
    "def validate_password(password):\n",
    "    # Password criteria: at least 8 characters, one special symbol, one number,\n",
    "    # one uppercase, and one lowercase character\n",
    "    if len(password) < 8:\n",
    "        return False\n",
    "    elif not re.search(\"[!@#$%^&*()_+=\\[{\\]};:<>|./?,-]\", password):\n",
    "        return False\n",
    "    elif not re.search(\"[0-9]\", password):\n",
    "        return False\n",
    "    elif not re.search(\"[a-z]\", password):\n",
    "        return False\n",
    "    elif not re.search(\"[A-Z]\", password):\n",
    "        return False\n",
    "    else:\n",
    "        return True\n",
    "\n",
    "def validate_email(email):\n",
    "    # Email criteria: should have \"@\" symbol, alphanumeric characters before and after \"@\",\n",
    "    # and letters after \"@\" with a \".\" character in between\n",
    "    if \"@\" not in email:\n",
    "        return False\n",
    "    elif not re.match(r\"[^@]+@[^@]+\\.[^@]+\", email):\n",
    "        return False\n",
    "    else:\n",
    "        return True"
   ]
  },
  {
   "cell_type": "code",
   "execution_count": 4,
   "id": "5180f2db-0b0b-414e-b179-bbc188ff44f9",
   "metadata": {},
   "outputs": [
    {
     "name": "stdout",
     "output_type": "stream",
     "text": [
      "User Login Validation Program\n",
      "\n"
     ]
    },
    {
     "name": "stdin",
     "output_type": "stream",
     "text": [
      "Enter username:  john_doe\n",
      "Enter password:  Password@123\n",
      "Enter email:  john.doe@example.com\n"
     ]
    },
    {
     "name": "stdout",
     "output_type": "stream",
     "text": [
      "Username is valid.\n",
      "Password is valid.\n",
      "Email is valid.\n"
     ]
    }
   ],
   "source": [
    "def main():\n",
    "    print(\"User Login Validation Program\\n\")\n",
    "    \n",
    "    username = input(\"Enter username: \")\n",
    "    password = input(\"Enter password: \")\n",
    "    email = input(\"Enter email: \")\n",
    "    \n",
    "    # Validate username\n",
    "    if validate_username(username):\n",
    "        print(\"Username is valid.\")\n",
    "    else:\n",
    "        print(\"Username is invalid.\")\n",
    "    \n",
    "    # Validate password\n",
    "    if validate_password(password):\n",
    "        print(\"Password is valid.\")\n",
    "    else:\n",
    "        print(\"Password is invalid.\")\n",
    "    \n",
    "    # Validate email\n",
    "    if validate_email(email):\n",
    "        print(\"Email is valid.\")\n",
    "    else:\n",
    "        print(\"Email is invalid.\")\n",
    "\n",
    "# Run the main function\n",
    "main()"
   ]
  },
  {
   "cell_type": "code",
   "execution_count": 5,
   "id": "9519a4ec-2c58-416a-a527-01f648be5603",
   "metadata": {},
   "outputs": [
    {
     "name": "stdout",
     "output_type": "stream",
     "text": [
      "User Login Validation Program\n",
      "\n"
     ]
    },
    {
     "name": "stdin",
     "output_type": "stream",
     "text": [
      "Enter username:  johndoe\n",
      "Enter password:  pass123\n",
      "Enter email:  johndoe@example\n"
     ]
    },
    {
     "name": "stdout",
     "output_type": "stream",
     "text": [
      "Username is valid.\n",
      "Password is invalid.\n",
      "Email is invalid.\n"
     ]
    }
   ],
   "source": [
    "def main():\n",
    "    print(\"User Login Validation Program\\n\")\n",
    "    \n",
    "    username = input(\"Enter username: \")\n",
    "    password = input(\"Enter password: \")\n",
    "    email = input(\"Enter email: \")\n",
    "    \n",
    "    # Validate username\n",
    "    if validate_username(username):\n",
    "        print(\"Username is valid.\")\n",
    "    else:\n",
    "        print(\"Username is invalid.\")\n",
    "    \n",
    "    # Validate password\n",
    "    if validate_password(password):\n",
    "        print(\"Password is valid.\")\n",
    "    else:\n",
    "        print(\"Password is invalid.\")\n",
    "    \n",
    "    # Validate email\n",
    "    if validate_email(email):\n",
    "        print(\"Email is valid.\")\n",
    "    else:\n",
    "        print(\"Email is invalid.\")\n",
    "\n",
    "# Run the main function\n",
    "main()"
   ]
  },
  {
   "cell_type": "code",
   "execution_count": 6,
   "id": "0a0888f0-13ca-4626-849d-bd0bae77d949",
   "metadata": {},
   "outputs": [
    {
     "name": "stdout",
     "output_type": "stream",
     "text": [
      "User Login Validation Program\n",
      "\n"
     ]
    },
    {
     "name": "stdin",
     "output_type": "stream",
     "text": [
      "Enter username:  jane_doe\n",
      "Enter password:  Password!\n",
      "Enter email:  jane.doe@example\n"
     ]
    },
    {
     "name": "stdout",
     "output_type": "stream",
     "text": [
      "Username is valid.\n",
      "Password is invalid.\n",
      "Email is invalid.\n"
     ]
    }
   ],
   "source": [
    "def main():\n",
    "    print(\"User Login Validation Program\\n\")\n",
    "    \n",
    "    username = input(\"Enter username: \")\n",
    "    password = input(\"Enter password: \")\n",
    "    email = input(\"Enter email: \")\n",
    "    \n",
    "    # Validate username\n",
    "    if validate_username(username):\n",
    "        print(\"Username is valid.\")\n",
    "    else:\n",
    "        print(\"Username is invalid.\")\n",
    "    \n",
    "    # Validate password\n",
    "    if validate_password(password):\n",
    "        print(\"Password is valid.\")\n",
    "    else:\n",
    "        print(\"Password is invalid.\")\n",
    "    \n",
    "    # Validate email\n",
    "    if validate_email(email):\n",
    "        print(\"Email is valid.\")\n",
    "    else:\n",
    "        print(\"Email is invalid.\")\n",
    "\n",
    "# Run the main function\n",
    "main()"
   ]
  },
  {
   "cell_type": "code",
   "execution_count": null,
   "id": "2cfbe3b7-76b4-4d65-adf2-243a032a9b35",
   "metadata": {},
   "outputs": [],
   "source": []
  }
 ],
 "metadata": {
  "kernelspec": {
   "display_name": "Python 3 (ipykernel)",
   "language": "python",
   "name": "python3"
  },
  "language_info": {
   "codemirror_mode": {
    "name": "ipython",
    "version": 3
   },
   "file_extension": ".py",
   "mimetype": "text/x-python",
   "name": "python",
   "nbconvert_exporter": "python",
   "pygments_lexer": "ipython3",
   "version": "3.11.7"
  }
 },
 "nbformat": 4,
 "nbformat_minor": 5
}
