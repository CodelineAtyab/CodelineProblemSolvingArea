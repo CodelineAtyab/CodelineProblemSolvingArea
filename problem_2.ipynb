{
 "cells": [
  {
   "cell_type": "code",
   "execution_count": 2,
   "id": "2514d383-1f6b-4a82-a94f-9b36ee1409a0",
   "metadata": {},
   "outputs": [
    {
     "name": "stdout",
     "output_type": "stream",
     "text": [
      "Input: 5\n",
      "Output: 101\n",
      "\n",
      "Input: 255\n",
      "Output: 11111111\n",
      "\n",
      "Input: 18\n",
      "Output: 10010\n"
     ]
    }
   ],
   "source": [
    "def decimal_to_binary(decimal_num):\n",
    "    if decimal_num == 0:\n",
    "        return \"0\"\n",
    "    \n",
    "    binary_str = \"\"\n",
    "    while decimal_num > 0:\n",
    "        remainder = decimal_num % 2\n",
    "        binary_str += str(remainder)\n",
    "        decimal_num //= 2\n",
    "    \n",
    "    # Reverse the binary string to get the correct binary representation\n",
    "    binary_str = binary_str[::-1]\n",
    "    \n",
    "    return binary_str\n",
    "\n",
    "# Test cases\n",
    "print(\"Input: 5\")\n",
    "print(\"Output:\", decimal_to_binary(5))\n",
    "\n",
    "print(\"\\nInput: 255\")\n",
    "print(\"Output:\", decimal_to_binary(255))\n",
    "\n",
    "print(\"\\nInput: 18\")\n",
    "print(\"Output:\", decimal_to_binary(18)) "
   ]
  },
  {
   "cell_type": "code",
   "execution_count": null,
   "id": "5dd7865f-1eb9-41a5-841b-6c93fd65a8ee",
   "metadata": {},
   "outputs": [],
   "source": []
  }
 ],
 "metadata": {
  "kernelspec": {
   "display_name": "Python 3 (ipykernel)",
   "language": "python",
   "name": "python3"
  },
  "language_info": {
   "codemirror_mode": {
    "name": "ipython",
    "version": 3
   },
   "file_extension": ".py",
   "mimetype": "text/x-python",
   "name": "python",
   "nbconvert_exporter": "python",
   "pygments_lexer": "ipython3",
   "version": "3.11.7"
  }
 },
 "nbformat": 4,
 "nbformat_minor": 5
}
