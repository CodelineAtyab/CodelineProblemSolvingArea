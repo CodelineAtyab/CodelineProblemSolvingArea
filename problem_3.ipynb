{
 "cells": [
  {
   "cell_type": "code",
   "execution_count": 1,
   "id": "01d8c660-2fa1-4cd6-9160-0fe90ee710aa",
   "metadata": {},
   "outputs": [
    {
     "name": "stdout",
     "output_type": "stream",
     "text": [
      "Menu:\n",
      "1. Display a right-angle triangle of ones\n",
      "2. Display a Palindromic Triangle\n",
      "3. Help\n",
      "4. Exit\n",
      "\n"
     ]
    },
    {
     "name": "stdin",
     "output_type": "stream",
     "text": [
      "Enter your choice:  1\n",
      "Enter the number of lines:  4\n"
     ]
    },
    {
     "name": "stdout",
     "output_type": "stream",
     "text": [
      "1\n",
      "11\n",
      "111\n",
      "1111\n",
      "Menu:\n",
      "1. Display a right-angle triangle of ones\n",
      "2. Display a Palindromic Triangle\n",
      "3. Help\n",
      "4. Exit\n",
      "\n"
     ]
    },
    {
     "name": "stdin",
     "output_type": "stream",
     "text": [
      "Enter your choice:  2\n",
      "Enter the number of lines:  5\n"
     ]
    },
    {
     "name": "stdout",
     "output_type": "stream",
     "text": [
      "1\n",
      "121\n",
      "12321\n",
      "1234321\n",
      "123454321\n",
      "Menu:\n",
      "1. Display a right-angle triangle of ones\n",
      "2. Display a Palindromic Triangle\n",
      "3. Help\n",
      "4. Exit\n",
      "\n"
     ]
    },
    {
     "name": "stdin",
     "output_type": "stream",
     "text": [
      "Enter your choice:  3\n"
     ]
    },
    {
     "name": "stdout",
     "output_type": "stream",
     "text": [
      "Help:\n",
      "Option 1: Displays a right-angle triangle of ones based on the input number of lines.\n",
      "Option 2: Displays a palindromic triangle based on the input number of lines.\n",
      "Option 3: Displays this help message.\n",
      "Option 4: Exits the program.\n",
      "\n",
      "Menu:\n",
      "1. Display a right-angle triangle of ones\n",
      "2. Display a Palindromic Triangle\n",
      "3. Help\n",
      "4. Exit\n",
      "\n"
     ]
    },
    {
     "name": "stdin",
     "output_type": "stream",
     "text": [
      "Enter your choice:  4\n"
     ]
    },
    {
     "name": "stdout",
     "output_type": "stream",
     "text": [
      "Exiting program. Goodbye!\n"
     ]
    }
   ],
   "source": [
    "def display_right_angle_triangle(n):\n",
    "    for i in range(1, n + 1):\n",
    "        print(\"1\" * i)\n",
    "\n",
    "def display_palindromic_triangle(n):\n",
    "    for i in range(1, n + 1):\n",
    "        line = \"\"\n",
    "        for j in range(1, i + 1):\n",
    "            line += str(j)\n",
    "        for j in range(i - 1, 0, -1):\n",
    "            line += str(j)\n",
    "        print(line)\n",
    "\n",
    "def display_help():\n",
    "    print(\"Menu:\")\n",
    "    print(\"1. Display a right-angle triangle of ones\")\n",
    "    print(\"2. Display a Palindromic Triangle\")\n",
    "    print(\"3. Help\")\n",
    "    print(\"4. Exit\")\n",
    "    print()\n",
    "\n",
    "def main():\n",
    "    while True:\n",
    "        display_help()\n",
    "        choice = input(\"Enter your choice: \")\n",
    "\n",
    "        if choice == \"1\":\n",
    "            try:\n",
    "                n = int(input(\"Enter the number of lines: \"))\n",
    "                if n <= 0:\n",
    "                    raise ValueError(\"Number of lines must be positive.\")\n",
    "                display_right_angle_triangle(n)\n",
    "            except ValueError as e:\n",
    "                print(\"Invalid input. Please enter a positive integer for the number of lines.\")\n",
    "                continue\n",
    "        \n",
    "        elif choice == \"2\":\n",
    "            try:\n",
    "                n = int(input(\"Enter the number of lines: \"))\n",
    "                if n <= 0:\n",
    "                    raise ValueError(\"Number of lines must be positive.\")\n",
    "                display_palindromic_triangle(n)\n",
    "            except ValueError as e:\n",
    "                print(\"Invalid input. Please enter a positive integer for the number of lines.\")\n",
    "                continue\n",
    "        \n",
    "        elif choice == \"3\":\n",
    "            print(\"Help:\")\n",
    "            print(\"Option 1: Displays a right-angle triangle of ones based on the input number of lines.\")\n",
    "            print(\"Option 2: Displays a palindromic triangle based on the input number of lines.\")\n",
    "            print(\"Option 3: Displays this help message.\")\n",
    "            print(\"Option 4: Exits the program.\")\n",
    "            print()\n",
    "        \n",
    "        elif choice == \"4\":\n",
    "            print(\"Exiting program. Goodbye!\")\n",
    "            break\n",
    "        \n",
    "        else:\n",
    "            print(\"Invalid choice. Please enter a number between 1 and 4.\")\n",
    "\n",
    "# Run the main function\n",
    "main()"
   ]
  },
  {
   "cell_type": "code",
   "execution_count": null,
   "id": "76166018-3470-4123-9a9d-cd6085a19e34",
   "metadata": {},
   "outputs": [],
   "source": []
  }
 ],
 "metadata": {
  "kernelspec": {
   "display_name": "Python 3 (ipykernel)",
   "language": "python",
   "name": "python3"
  },
  "language_info": {
   "codemirror_mode": {
    "name": "ipython",
    "version": 3
   },
   "file_extension": ".py",
   "mimetype": "text/x-python",
   "name": "python",
   "nbconvert_exporter": "python",
   "pygments_lexer": "ipython3",
   "version": "3.11.7"
  }
 },
 "nbformat": 4,
 "nbformat_minor": 5
}
