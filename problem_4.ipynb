{
 "cells": [
  {
   "cell_type": "code",
   "execution_count": 3,
   "id": "e915cc91-d71c-4356-9b02-4dca88829cdc",
   "metadata": {},
   "outputs": [
    {
     "name": "stdin",
     "output_type": "stream",
     "text": [
      "Enter the list of integers:  1, 2, 3, 4, 5, 6, 7, 8, 9, 10 \n"
     ]
    },
    {
     "name": "stdout",
     "output_type": "stream",
     "text": [
      "List of squares of even numbers: [4, 16, 36, 64, 100]\n"
     ]
    },
    {
     "name": "stdin",
     "output_type": "stream",
     "text": [
      "Enter the start index for slicing:  2\n",
      "Enter the end index for slicing:  5\n"
     ]
    },
    {
     "name": "stdout",
     "output_type": "stream",
     "text": [
      "Sublist from index 2 to 5 : [3, 4, 5, 6]\n"
     ]
    }
   ],
   "source": [
    "def generate_even_squares(int_list):\n",
    "    # List comprehension to generate squares of even numbers\n",
    "    even_squares = [num ** 2 for num in int_list if num % 2 == 0]\n",
    "    return even_squares\n",
    "\n",
    "def main():\n",
    "    # Input handling\n",
    "    try:\n",
    "        input_list = input(\"Enter the list of integers: \")\n",
    "        int_list = [int(num) for num in input_list.strip('[]').split(',')]\n",
    "    except ValueError:\n",
    "        print(\"Invalid input format. Please enter integers in the format [1, 2, 3, ...]\")\n",
    "        return\n",
    "    \n",
    "    # Generate list of squares of even numbers\n",
    "    even_squares = generate_even_squares(int_list)\n",
    "    \n",
    "    # Output list of squares of even numbers\n",
    "    print(\"List of squares of even numbers:\", even_squares)\n",
    "    \n",
    "    # Slicing operation\n",
    "    try:\n",
    "        start_index = int(input(\"Enter the start index for slicing: \"))\n",
    "        end_index = int(input(\"Enter the end index for slicing: \"))\n",
    "        \n",
    "        if start_index < 0 or end_index >= len(int_list):\n",
    "            raise IndexError(\"Indices out of range.\")\n",
    "        \n",
    "        sublist = int_list[start_index:end_index+1]  # Slicing end index is exclusive, so add 1\n",
    "        print(\"Sublist from index\", start_index, \"to\", end_index, \":\", sublist)\n",
    "    except ValueError:\n",
    "        print(\"Invalid input. Please enter integers for start and end indices.\")\n",
    "    except IndexError as e:\n",
    "        print(\"Error:\", e)\n",
    "\n",
    "# Run the main function\n",
    "main()"
   ]
  },
  {
   "cell_type": "code",
   "execution_count": null,
   "id": "5129d774-b724-4305-a45f-764fe97003a7",
   "metadata": {},
   "outputs": [],
   "source": []
  }
 ],
 "metadata": {
  "kernelspec": {
   "display_name": "Python 3 (ipykernel)",
   "language": "python",
   "name": "python3"
  },
  "language_info": {
   "codemirror_mode": {
    "name": "ipython",
    "version": 3
   },
   "file_extension": ".py",
   "mimetype": "text/x-python",
   "name": "python",
   "nbconvert_exporter": "python",
   "pygments_lexer": "ipython3",
   "version": "3.11.7"
  }
 },
 "nbformat": 4,
 "nbformat_minor": 5
}
